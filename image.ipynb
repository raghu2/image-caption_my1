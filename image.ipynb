{
 "cells": [
  {
   "cell_type": "code",
   "execution_count": null,
   "outputs": [],
   "source": [],
   "metadata": {
    "collapsed": false,
    "pycharm": {
     "name": "#%%\n"
    }
   }
  },
  {
   "cell_type": "code",
   "execution_count": null,
   "outputs": [],
   "source": [
    "import numpy as np\n",
    "import pandas as pd\n",
    "import matplotlib.pyplot as plt\n",
    "import string\n",
    "from PIL import Image\n",
    "from time import time\n",
    "from keras.preprocessing import sequence\n",
    "from keras.models import Sequential\n",
    "from keras.layers import LSTM, Embedding, TimeDistributed, Dense, RepeatVector, Activation, Flatten, Reshape, concatenate, Dropout, BatchNormalization\n",
    "from keras.optimizers import Adam, RMSprop\n",
    "from keras.layers.wrappers import Bidirectional\n",
    "from keras.layers.merge import add\n",
    "from keras.applications.inception_v3 import InceptionV3\n",
    "from keras.preprocessing import image\n",
    "from keras.models import Model\n",
    "from keras import Input, layers\n",
    "from keras import optimizers\n",
    "from keras.applications.inception_v3 import preprocess_input\n",
    "from keras.preprocessing.text import Tokenizer\n",
    "from keras.preprocessing.sequence import pad_sequences\n",
    "from keras.utils import to_categorical\n",
    "import cv2\n",
    "import os\n",
    "import glob"
   ],
   "metadata": {
    "collapsed": false,
    "pycharm": {
     "name": "#%%\n"
    }
   }
  },
  {
   "cell_type": "code",
   "execution_count": null,
   "outputs": [],
   "source": [
    "filename = \"flickr/Flickr8k_text/Flickr8k.token.txt\"\n",
    "file = open(filename, 'r')\n",
    "doc = file.read()\n",
    "file.close()\n",
    "count = 0\n",
    "for line in doc.split('\\n'):\n",
    "    count = count + 1\n",
    "print(count)\n",
    "print(doc[:400])"
   ],
   "metadata": {
    "collapsed": false,
    "pycharm": {
     "name": "#%%\n"
    }
   }
  },
  {
   "cell_type": "code",
   "execution_count": null,
   "outputs": [],
   "source": [
    "def load_descriptions(doc):\n",
    "    mapping = dict()\n",
    "    for line in doc.split('\\n'):\n",
    "        tokens = line.split()\n",
    "        if len(line) < 2:\n",
    "            continue\n",
    "        image_id = tokens[0]\n",
    "        image_desc = tokens[1:]\n",
    "        image_desc = ' '.join(image_desc)\n",
    "        image_id = image_id.split('.')[0]\n",
    "        if image_id in mapping:\n",
    "            mapping[image_id].append(image_desc)\n",
    "        if image_id not in mapping:\n",
    "            mapping[image_id] = list()\n",
    "            mapping[image_id].append(image_desc)\n",
    "    return mapping\n",
    "descriptions = load_descriptions(doc)\n",
    "print('loaded=', len(descriptions))"
   ],
   "metadata": {
    "collapsed": false,
    "pycharm": {
     "name": "#%%\n"
    }
   }
  },
  {
   "cell_type": "code",
   "execution_count": null,
   "outputs": [],
   "source": [
    "#print(descriptions)\n",
    "print(list(descriptions.keys())[:5])"
   ],
   "metadata": {
    "collapsed": false,
    "pycharm": {
     "name": "#%%\n"
    }
   }
  },
  {
   "cell_type": "code",
   "execution_count": null,
   "outputs": [],
   "source": [
    "print(len(descriptions))\n",
    "print(descriptions['1000268201_693b08cb0e'])\n",
    "print(descriptions['3712923460_1b20ebb131'])"
   ],
   "metadata": {
    "collapsed": false,
    "pycharm": {
     "name": "#%%\n"
    }
   }
  },
  {
   "cell_type": "code",
   "execution_count": null,
   "outputs": [],
   "source": [
    "table = str.maketrans('', '', string.punctuation)\n",
    "for key, desc_list in descriptions.items():\n",
    "    #print(key, desc_list)\n",
    "    for i in range(len(desc_list)):\n",
    "        #print('1',desc_list[i])\n",
    "        desc = desc_list[i]\n",
    "        #print('2',desc)\n",
    "        desc = desc.split()\n",
    "        #print('3',desc)\n",
    "        desc = [word.lower() for word in desc]\n",
    "        #print('4',desc)\n",
    "        desc = [w.translate(table) for w in desc]\n",
    "        #print('5',desc)\n",
    "        desc = [word for word in desc if (len(word) > 1)]\n",
    "        #print('6',desc)\n",
    "        desc = [word for word in desc if word.isalpha()]\n",
    "        #print('7',desc)\n",
    "        desc_list[i] = ' '.join(desc)\n",
    "        #print('8',desc_list)\n",
    "#print(desc_list)\n",
    "#print(len(descriptions))\n",
    "print(len(descriptions.keys()))"
   ],
   "metadata": {
    "collapsed": false,
    "pycharm": {
     "name": "#%%\n"
    }
   }
  },
  {
   "cell_type": "code",
   "execution_count": null,
   "outputs": [],
   "source": [
    "print(descriptions['3712923460_1b20ebb131'])\n",
    "print(desc_list['3712923460_1b20ebb131'])"
   ],
   "metadata": {
    "collapsed": false,
    "pycharm": {
     "name": "#%%\n"
    }
   }
  },
  {
   "cell_type": "code",
   "execution_count": null,
   "outputs": [],
   "source": [
    "vocabulary = set()\n",
    "for key in descriptions.keys():\n",
    "    [vocabulary.update(d.split()) for d in descriptions[key]]\n",
    "print('size = ', len(vocabulary))\n",
    "print(len(descriptions))\n",
    "print(len(descriptions.keys()))"
   ],
   "metadata": {
    "collapsed": false,
    "pycharm": {
     "name": "#%%\n"
    }
   }
  },
  {
   "cell_type": "code",
   "execution_count": null,
   "outputs": [],
   "source": [
    "train_captions = []\n",
    "for key,val in descriptions.items():\n",
    "    for captions in val:\n",
    "        train_captions.append(captions)\n",
    "\n",
    "wordcount_max = 10\n",
    "word_count = {}\n",
    "nsents = 0\n",
    "for sent in train_captions:\n",
    "    nsents = nsents + 1\n",
    "    for w in sent.split():\n",
    "        word_count[w] = word_count.get(w, 0) + 1\n",
    "vocab = [w for w in word_count if word_count[w] > wordcount_max]\n",
    "print('words = ', len(vocab))\n"
   ],
   "metadata": {
    "collapsed": false,
    "pycharm": {
     "name": "#%%\n"
    }
   }
  },
  {
   "cell_type": "code",
   "execution_count": null,
   "outputs": [],
   "source": [
    "print(vocab)"
   ],
   "metadata": {
    "collapsed": false,
    "pycharm": {
     "name": "#%%\n"
    }
   }
  },
  {
   "cell_type": "code",
   "execution_count": null,
   "outputs": [],
   "source": [
    "doc = open(\"flickr/Flickr8k_Dataset/Flicker8k_Dataset\")"
   ],
   "metadata": {
    "collapsed": false,
    "pycharm": {
     "name": "#%%\n"
    }
   }
  },
  {
   "cell_type": "code",
   "execution_count": null,
   "outputs": [],
   "source": [
    "doc = load_doc(\"flickr/Flickr8k_text/Flickr_8k.trainImages.txt\")"
   ],
   "metadata": {
    "collapsed": false,
    "pycharm": {
     "name": "#%%\n"
    }
   }
  },
  {
   "cell_type": "code",
   "execution_count": null,
   "outputs": [],
   "source": [
    "file = open('flickr/Flickr8k_text/Flickr_8k.trainImages.txt')\n",
    "doc = file.read()\n",
    "train_images = list()\n",
    "for word in doc.split('\\n'):\n",
    "    image_identifier = word.split('.')[0]\n",
    "    train_images.append(image_identifier)\n",
    "print(len(train_images))"
   ],
   "metadata": {
    "collapsed": false,
    "pycharm": {
     "name": "#%%\n"
    }
   }
  },
  {
   "cell_type": "code",
   "execution_count": null,
   "outputs": [],
   "source": [
    "train_descriptions = dict()\n",
    "#train_descriptions_intermediate = list()\n",
    "for line in str(descriptions).split('\\n'):\n",
    "    for image_id in descriptions:\n",
    "        train_descriptions_intermediate = list()\n",
    "        for i in range(len(descriptions[image_id])):\n",
    "            train_descriptions_intermediate.append('start_sequence ' + ''.join(descriptions[image_id][i]) + ' end_sequence')\n",
    "        train_descriptions[image_id] = train_descriptions_intermediate"
   ],
   "metadata": {
    "collapsed": false,
    "pycharm": {
     "name": "#%%\n"
    }
   }
  },
  {
   "cell_type": "code",
   "execution_count": null,
   "outputs": [],
   "source": [
    "print(train_descriptions['3712923460_1b20ebb131'])\n",
    "print(train_descriptions['2279980395_989d48ae72'])\n",
    "print(len(train_descriptions))\n",
    "#print(train_descriptions.keys())"
   ],
   "metadata": {
    "collapsed": false,
    "pycharm": {
     "name": "#%%\n"
    }
   }
  },
  {
   "cell_type": "code",
   "execution_count": null,
   "outputs": [],
   "source": [
    "model = InceptionV3(weights = 'imagenet')"
   ],
   "metadata": {
    "collapsed": false,
    "pycharm": {
     "name": "#%%\n"
    }
   }
  },
  {
   "cell_type": "code",
   "execution_count": null,
   "outputs": [],
   "source": [
    "model_new = Model(model.input, model.layers[-2].output)"
   ],
   "metadata": {
    "collapsed": false,
    "pycharm": {
     "name": "#%%\n"
    }
   }
  },
  {
   "cell_type": "code",
   "execution_count": null,
   "outputs": [],
   "source": [
    "model_new.summary()"
   ],
   "metadata": {
    "collapsed": false,
    "pycharm": {
     "name": "#%%\n"
    }
   }
  },
  {
   "cell_type": "code",
   "execution_count": null,
   "outputs": [],
   "source": [
    "image_path = \"flickr/Flickr8k_Dataset/Flicker8k_Dataset\"\n",
    "#images = [cv2.imread(file) for file in glob.glob('image_path/*.jpg')]"
   ],
   "metadata": {
    "collapsed": false,
    "pycharm": {
     "name": "#%%\n"
    }
   }
  },
  {
   "cell_type": "code",
   "execution_count": null,
   "outputs": [],
   "source": [],
   "metadata": {
    "collapsed": false,
    "pycharm": {
     "name": "#%%\n"
    }
   }
  },
  {
   "cell_type": "code",
   "execution_count": null,
   "outputs": [],
   "source": [],
   "metadata": {
    "collapsed": false,
    "pycharm": {
     "name": "#%%\n"
    }
   }
  },
  {
   "cell_type": "code",
   "execution_count": null,
   "outputs": [],
   "source": [
    "path = glob.glob('flickr/Flickr8k_Dataset/Flicker8k_Dataset/*.jpg')\n",
    "images = list()\n",
    "for img in path:\n",
    "    #print(img)\n",
    "    n = cv2.imread(img)\n",
    "    #print(n)\n",
    "    x = image.img_to_array(n)\n",
    "    #print(x)\n",
    "    x = np.resize(x, (299, 299))\n",
    "    #print(x.shape)\n",
    "    x = np.expand_dims(x, axis = 0)\n",
    "    #print(x.shape)\n",
    "    images.append(x)\n",
    "    #x = x.reshape(1, 299, 299, 3)\n",
    "    #x = np.expand_dims(x, axis = 3)\n",
    "    #x = preprocess_input(x)"
   ],
   "metadata": {
    "collapsed": false,
    "pycharm": {
     "name": "#%%\n"
    }
   }
  },
  {
   "cell_type": "code",
   "execution_count": null,
   "outputs": [],
   "source": [
    "#fea_vec_2048 = image_to_vector(x)"
   ],
   "metadata": {
    "collapsed": false,
    "pycharm": {
     "name": "#%%\n"
    }
   }
  },
  {
   "cell_type": "code",
   "execution_count": null,
   "outputs": [],
   "source": [
    "def image_to_vector(img):\n",
    "    x = model_new.predict(img)\n",
    "    feature_vector_2048 = np.reshape(x, x.shape[1])\n",
    "    return feature_vector_2048 "
   ],
   "metadata": {
    "collapsed": false,
    "pycharm": {
     "name": "#%%\n"
    }
   }
  },
  {
   "cell_type": "code",
   "execution_count": null,
   "outputs": [],
   "source": [],
   "metadata": {
    "collapsed": false,
    "pycharm": {
     "name": "#%%\n"
    }
   }
  },
  {
   "cell_type": "raw",
   "source": [],
   "metadata": {
    "collapsed": false
   }
  },
  {
   "cell_type": "code",
   "execution_count": null,
   "outputs": [],
   "source": [
    "fea_vec_2048 = image_to_vector(x)"
   ],
   "metadata": {
    "collapsed": false,
    "pycharm": {
     "name": "#%%\n"
    }
   }
  },
  {
   "cell_type": "code",
   "execution_count": null,
   "outputs": [],
   "source": [
    "print(len(images))"
   ],
   "metadata": {
    "collapsed": false,
    "pycharm": {
     "name": "#%%\n"
    }
   }
  },
  {
   "cell_type": "code",
   "execution_count": null,
   "outputs": [],
   "source": [
    "print(images[0].shape)\n",
    "type(images[0])"
   ],
   "metadata": {
    "collapsed": false,
    "pycharm": {
     "name": "#%%\n"
    }
   }
  },
  {
   "cell_type": "code",
   "execution_count": null,
   "outputs": [],
   "source": [
    "print(images[0].size)\n",
    "print(images[0])\n",
    "plt.imshow(images[1])"
   ],
   "metadata": {
    "collapsed": false,
    "pycharm": {
     "name": "#%%\n"
    }
   }
  },
  {
   "cell_type": "code",
   "execution_count": null,
   "outputs": [],
   "source": [
    "resized_images = []\n",
    "inter1, inter2, inter3 = [], [], []\n",
    "resized_images_array = []\n",
    "for i in range(len(images)):\n",
    "    resized_images.append(np.resize(images[i], (299, 299)))\n",
    "    inter2.append(np.expand_dims(resized_images[i], axis = 0))\n",
    "    inter3.append(preprocess_input(inter2[i]))\n",
    "    resized_images_array.append(np.reshape(inter3[i], inter3[i].shape[-1]))"
   ],
   "metadata": {
    "collapsed": false,
    "pycharm": {
     "name": "#%%\n"
    }
   }
  },
  {
   "cell_type": "code",
   "execution_count": null,
   "outputs": [],
   "source": [
    "print(resized_images[1].shape)\n",
    "plt.imshow(resized_images[1])"
   ],
   "metadata": {
    "collapsed": false,
    "pycharm": {
     "name": "#%%\n"
    }
   }
  },
  {
   "cell_type": "code",
   "execution_count": null,
   "outputs": [],
   "source": [
    "abc = preprocess_input(inter2[0])\n",
    "print(abc.shape)"
   ],
   "metadata": {
    "collapsed": false,
    "pycharm": {
     "name": "#%%\n"
    }
   }
  },
  {
   "cell_type": "code",
   "execution_count": null,
   "outputs": [],
   "source": [],
   "metadata": {
    "collapsed": false,
    "pycharm": {
     "name": "#%%\n"
    }
   }
  },
  {
   "cell_type": "code",
   "execution_count": null,
   "outputs": [],
   "source": [],
   "metadata": {
    "collapsed": false,
    "pycharm": {
     "name": "#%%\n"
    }
   }
  }
 ],
 "metadata": {
  "kernelspec": {
   "display_name": "Python 3",
   "language": "python",
   "name": "python3"
  },
  "language_info": {
   "codemirror_mode": {
    "name": "ipython",
    "version": 2
   },
   "file_extension": ".py",
   "mimetype": "text/x-python",
   "name": "python",
   "nbconvert_exporter": "python",
   "pygments_lexer": "ipython2",
   "version": "2.7.6"
  },
  "pycharm": {
   "stem_cell": {
    "cell_type": "raw",
    "source": [],
    "metadata": {
     "collapsed": false
    }
   }
  }
 },
 "nbformat": 4,
 "nbformat_minor": 0
}